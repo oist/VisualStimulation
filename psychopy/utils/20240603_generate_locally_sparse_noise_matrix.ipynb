{
 "cells": [
  {
   "cell_type": "code",
   "execution_count": 1,
   "id": "7b662d86-d08e-4df7-9f7a-bf7dd6a00ebd",
   "metadata": {},
   "outputs": [],
   "source": [
    "import numpy as np\n",
    "from matplotlib import pyplot as plt\n",
    "from scipy import ndimage as ndi"
   ]
  },
  {
   "cell_type": "code",
   "execution_count": 2,
   "id": "e0f2a7fe-22b5-4cbe-8596-3e9ce29b87a9",
   "metadata": {},
   "outputs": [],
   "source": [
    "def locally_sparse_noise(matrix_shape, min_distance, min_distance_bw_frames, num_squares):\n",
    "    \"\"\"\n",
    "    Base function to generate locally sparse noise (LSN) matrix.\n",
    "    \n",
    "    Parameters\n",
    "    ----------\n",
    "    matrix_shape: [int, int]\n",
    "        height and width\n",
    "    min_distance: int\n",
    "        Minimum distance allowed between the center of squares\n",
    "    min_distance_bw_frames: int\n",
    "        Minimum distance allowed between consecutive frames\n",
    "    num_squares: int\n",
    "        Number of squares in one frame\n",
    "    \n",
    "    Returns\n",
    "    -------\n",
    "    mat: 2D array\n",
    "    mat.shape[0] will be approximately (matrix_shape[0]*matrix_shape[1]/num_squares) but this is stochastic\n",
    "    mat.shape[1] will be 2, corresponding to the 2D indices of the square positions\n",
    "    \"\"\"\n",
    "    x = np.arange(matrix_shape[1])\n",
    "    y = np.arange(matrix_shape[0])\n",
    "    bag = np.array(np.meshgrid(y, x)).T.reshape(-1,2)\n",
    "    bag_indices = np.arange(bag.shape[0])\n",
    "\n",
    "    mat = []\n",
    "    exit_loop = False\n",
    "    prev = np.array([[1e10, 1e10]])\n",
    "    while True:\n",
    "        # get first element from the bag\n",
    "        i = np.random.choice(bag_indices)\n",
    "        out = np.array([bag[i]])\n",
    "        bag_indices= np.delete(bag_indices, (bag_indices==i).argmax())\n",
    "        count = 0\n",
    "        while True:\n",
    "            # get the next element from the bag\n",
    "            i = np.random.choice(bag_indices)\n",
    "            n = bag[i]\n",
    "            dist1 = np.sqrt((n[0] - out[:,0])**2 + (n[1]- out[:,1])**2)\n",
    "            dist2 = np.sqrt((n[0] - prev[:,0])**2 + (n[1]- prev[:,1])**2)\n",
    "            if dist1.min() > min_distance and dist2.min() > min_distance_bw_frames:\n",
    "                out = np.concatenate((out, [n]), axis=0)\n",
    "                bag_indices = np.delete(bag_indices, (bag_indices==i).argmax())\n",
    "            if out.shape[0] >= num_squares:\n",
    "                prev = out.copy()\n",
    "                break\n",
    "            count += 1\n",
    "            if count > 1000:\n",
    "                # if you cannot find a good pair in 100 attempts, there is no more possible combinations, so exit the loop\n",
    "                exit_loop = True\n",
    "                break\n",
    "        if exit_loop:\n",
    "            break\n",
    "        else:\n",
    "            mat.append(out)\n",
    "        if bag_indices.size < num_squares:\n",
    "            # if bag is almost empty, exit the loop\n",
    "            break\n",
    "    return np.array(mat)"
   ]
  },
  {
   "cell_type": "code",
   "execution_count": 3,
   "id": "f1b1fcb7-6961-4a57-9712-5bfb62c75f29",
   "metadata": {},
   "outputs": [],
   "source": [
    "def main(monitor_pixel_dims, monitor_real_width, distance_to_monitor, unit_degree, num_squares, min_square_distance_degree, num_repeats):\n",
    "    \"\"\"\n",
    "    Main function\n",
    "    \"\"\"\n",
    "    C = monitor_real_width/2\n",
    "    A = distance_to_monitor\n",
    "    B = np.sqrt((A**2)+(C**2))\n",
    "    w = ((B**2)+(B**2)-monitor_real_width**2)/(2*(B**2))\n",
    "    W = np.rad2deg(np.arccos(w))\n",
    "    print(\"Total viewing angle (horizontal)\", W)\n",
    "    \n",
    "    unit_pixels = np.floor(monitor_pixel_dims[1]/W*unit_degree)\n",
    "    matrix_shape = np.array(monitor_pixel_dims)/unit_pixels\n",
    "    matrix_shape = np.floor(matrix_shape).astype(\"int\")\n",
    "    min_square_distance_pixels = min_square_distance_degree / unit_degree\n",
    "    print(\"Unit pixels:\", unit_pixels)\n",
    "    print(\"Output matrix size:\", matrix_shape)\n",
    "\n",
    "    g = []\n",
    "    c = 0\n",
    "    while True:\n",
    "        m = locally_sparse_noise(matrix_shape, min_square_distance_pixels, int(min_square_distance_pixels/2), num_squares)\n",
    "        if m.shape[0] > matrix_shape[0] * matrix_shape[1] / num_squares * 0.95:\n",
    "            g.append(m)\n",
    "            print(m.shape[0])\n",
    "        if len(g) >= num_repeats:\n",
    "            break\n",
    "        c += 1\n",
    "        if c > 1000:\n",
    "            raise ValueError(\"FAIL!\")\n",
    "    \n",
    "    for i in range(len(g)):\n",
    "        if i == 0:\n",
    "            G = g[0]\n",
    "        else:\n",
    "            G = np.concatenate((G, g[i]), axis=0)\n",
    "    \n",
    "    return G, matrix_shape"
   ]
  },
  {
   "cell_type": "markdown",
   "id": "99ce2c6a-8a98-4bba-848c-6fd17b9388ef",
   "metadata": {},
   "source": [
    "## Compute the locally sparse grid (2.5 degree)\n"
   ]
  },
  {
   "cell_type": "code",
   "execution_count": 7,
   "id": "2a062a49-1064-4b66-abad-2b4c8c8e9a61",
   "metadata": {
    "scrolled": true
   },
   "outputs": [
    {
     "name": "stdout",
     "output_type": "stream",
     "text": [
      "Total viewing angle (horizontal) 102.68038349181982\n",
      "Unit pixels: 31.0\n",
      "Output matrix size: [23 41]\n",
      "50\n",
      "50\n",
      "50\n",
      "50\n",
      "50\n",
      "50\n",
      "50\n",
      "50\n",
      "50\n",
      "50\n",
      "50\n",
      "50\n",
      "50\n",
      "50\n",
      "50\n",
      "50\n"
     ]
    }
   ],
   "source": [
    "monitor_pixel_dims = [720, 1280] # pixels; height x width\n",
    "monitor_real_width = 15.0 # cm\n",
    "distance_to_monitor = 6.0 # cm\n",
    "unit_degree = 2.5 # degrees\n",
    "num_squares = 18.0\n",
    "min_square_distance_degree = 12.0 # degrees\n",
    "num_repeats = 16\n",
    "\n",
    "M, mat_shape = main(monitor_pixel_dims, monitor_real_width, distance_to_monitor, unit_degree, num_squares, min_square_distance_degree, num_repeats)"
   ]
  },
  {
   "cell_type": "code",
   "execution_count": 8,
   "id": "11502d24-e292-485e-9ed6-013adac5e4e1",
   "metadata": {},
   "outputs": [
    {
     "name": "stdout",
     "output_type": "stream",
     "text": [
      "(800, 18, 2)\n",
      "[23 41]\n"
     ]
    }
   ],
   "source": [
    "print(M.shape)\n",
    "print(mat_shape)"
   ]
  },
  {
   "cell_type": "markdown",
   "id": "d63792d1-51a3-4f0a-b14e-26b8f3d3b226",
   "metadata": {},
   "source": [
    "### Check 1: Show the sum of all frames\n"
   ]
  },
  {
   "cell_type": "code",
   "execution_count": 9,
   "id": "52aaea9d-2838-432d-a3ea-6f5c44e13c57",
   "metadata": {},
   "outputs": [
    {
     "name": "stdout",
     "output_type": "stream",
     "text": [
      "16.0\n",
      "15.270413573700955\n",
      "12.0\n"
     ]
    },
    {
     "data": {
      "text/plain": [
       "<matplotlib.image.AxesImage at 0x7f64692b2560>"
      ]
     },
     "execution_count": 9,
     "metadata": {},
     "output_type": "execute_result"
    },
    {
     "data": {
      "image/png": "[encoded data removed]",
      "text/plain": [
       "<Figure size 640x480 with 1 Axes>"
      ]
     },
     "metadata": {},
     "output_type": "display_data"
    }
   ],
   "source": [
    "img = np.zeros(mat_shape)\n",
    "for i in range(len(M)):\n",
    "    img[M[i][:,0], M[i][:,1]] += 1\n",
    "\n",
    "print(img.max())\n",
    "print(img.mean())\n",
    "print(img.min())\n",
    "plt.imshow(img, cmap=\"gray\", vmin=img.min(), vmax=img.max())"
   ]
  },
  {
   "cell_type": "markdown",
   "id": "c673f9a4-b2a3-4b72-9dfb-78d6e2a54998",
   "metadata": {},
   "source": [
    "### Check 2: Show the activation of a given index\n"
   ]
  },
  {
   "cell_type": "code",
   "execution_count": 10,
   "id": "86694dff-a620-4ff4-92b9-5da53ed2c02f",
   "metadata": {},
   "outputs": [
    {
     "data": {
      "image/png": "[encoded data removed]",
      "text/plain": [
       "<Figure size 1500x500 with 3 Axes>"
      ]
     },
     "metadata": {},
     "output_type": "display_data"
    }
   ],
   "source": [
    "fig, axs = plt.subplots(1,3, figsize=(15,5))\n",
    "for j in range(3):\n",
    "    ny = np.random.choice(mat_shape[0])\n",
    "    nx = np.random.choice(mat_shape[1])\n",
    "    out = np.zeros(mat_shape)\n",
    "    for i in range(len(M)):\n",
    "        img = np.zeros(mat_shape)\n",
    "        img[M[i][:,0], M[i][:,1]] += 1\n",
    "        if img[ny, nx] == 1:\n",
    "            out += img\n",
    "    out = out / out.max()\n",
    "    axs[j].imshow(out, cmap=\"gray\", vmin=0, vmax=1)\n",
    "plt.show()"
   ]
  },
  {
   "cell_type": "markdown",
   "id": "b0aa6226-3ceb-4909-9751-971efcd2e68f",
   "metadata": {},
   "source": [
    "### Generate the matrix (square size = 2.5 degrees)\n"
   ]
  },
  {
   "cell_type": "code",
   "execution_count": 11,
   "id": "d5f0d480-1b37-45a2-98f7-1907afc6d69f",
   "metadata": {},
   "outputs": [],
   "source": [
    "M_2deg = []\n",
    "for i in range(len(M)):\n",
    "    img = np.zeros(mat_shape)\n",
    "    img[M[i][:,0], M[i][:,1]] += 1\n",
    "    M_2deg.append(img)\n",
    "M_2deg = np.array(M_2deg)\n",
    "\n",
    "# make half of the squares white and the other half black\n",
    "for ny in range(M_2deg.shape[1]):\n",
    "    for nx in range(M_2deg.shape[2]):\n",
    "        col = M_2deg[:, ny, nx]\n",
    "        idx = np.where(col==1)\n",
    "        black_idx = np.random.choice(idx[0], (int(idx[0].size/2)), replace=False)\n",
    "        M_2deg[black_idx, ny, nx] = -1"
   ]
  },
  {
   "cell_type": "code",
   "execution_count": 12,
   "id": "4a013d8d-fe5f-4a10-baa4-56bdc19f9f1f",
   "metadata": {},
   "outputs": [
    {
     "data": {
      "image/png": "[encoded data removed]",
      "text/plain": [
       "<Figure size 1500x500 with 3 Axes>"
      ]
     },
     "metadata": {},
     "output_type": "display_data"
    }
   ],
   "source": [
    "np.random.seed(2024)\n",
    "fig, axs = plt.subplots(1,3, figsize=(15,5))\n",
    "for j in range(3):\n",
    "    i = np.random.choice(M_2deg.shape[0])\n",
    "    img = M_2deg[i]\n",
    "    axs[j].imshow(img, cmap=\"gray\", vmin=-1, vmax=1)\n",
    "    axs[j].set_title(str(i))\n",
    "plt.show()"
   ]
  },
  {
   "cell_type": "code",
   "execution_count": 13,
   "id": "29a66961-5e36-4b0c-b3d9-c4ee5b6e1ac3",
   "metadata": {},
   "outputs": [],
   "source": [
    "np.save('LSN_2d5DEG.npy', M_2deg, allow_pickle=True)"
   ]
  },
  {
   "cell_type": "markdown",
   "id": "2a8d6054-033f-45fb-a2e4-f7de4ebeb338",
   "metadata": {},
   "source": [
    "### Generate the matrix (squares size = 5 degrees)\n"
   ]
  },
  {
   "cell_type": "code",
   "execution_count": 14,
   "id": "5771f9e7-47bf-4fa4-a710-f5f7ce0e9eba",
   "metadata": {},
   "outputs": [],
   "source": [
    "M_4deg = []\n",
    "for i in range(M_2deg.shape[0]):\n",
    "    img = M_2deg[i]\n",
    "    black = ndi.minimum_filter(img, size=2, mode=\"constant\", cval=0)\n",
    "    white = ndi.maximum_filter(img, size=2, mode=\"constant\", cval=0)\n",
    "    M_4deg.append(black + white)\n",
    "M_4deg = np.array(M_4deg)"
   ]
  },
  {
   "cell_type": "code",
   "execution_count": 15,
   "id": "36c3ad27-0975-415c-89ad-17498ea6975d",
   "metadata": {},
   "outputs": [
    {
     "data": {
      "image/png": "[encoded data removed]",
      "text/plain": [
       "<Figure size 1500x500 with 3 Axes>"
      ]
     },
     "metadata": {},
     "output_type": "display_data"
    }
   ],
   "source": [
    "np.random.seed(2024)\n",
    "fig, axs = plt.subplots(1,3, figsize=(15,5))\n",
    "for j in range(3):\n",
    "    i = np.random.choice(M_4deg.shape[0])\n",
    "    img = M_4deg[i]\n",
    "    axs[j].imshow(img, cmap=\"gray\", vmin=-1, vmax=1)\n",
    "    axs[j].set_title(str(i))\n",
    "plt.show()"
   ]
  },
  {
   "cell_type": "code",
   "execution_count": 16,
   "id": "e452cc53-5970-4bdd-a660-0a59aee94326",
   "metadata": {},
   "outputs": [],
   "source": [
    "np.save('LSN_5d0DEG.npy', M_4deg, allow_pickle=True)"
   ]
  },
  {
   "cell_type": "code",
   "execution_count": 17,
   "id": "8297f05a-acf5-41f0-9a03-562619e2ff35",
   "metadata": {},
   "outputs": [
    {
     "name": "stdout",
     "output_type": "stream",
     "text": [
      "32.0\n",
      "30.146341463414632\n",
      "8.0\n"
     ]
    },
    {
     "data": {
      "text/plain": [
       "<matplotlib.image.AxesImage at 0x7f646706ba90>"
      ]
     },
     "execution_count": 17,
     "metadata": {},
     "output_type": "execute_result"
    },
    {
     "data": {
      "image/png": "[encoded data removed]",
      "text/plain": [
       "<Figure size 640x480 with 1 Axes>"
      ]
     },
     "metadata": {},
     "output_type": "display_data"
    }
   ],
   "source": [
    "img = np.zeros(M_4deg[0].shape)\n",
    "for i in range(M_4deg.shape[0]):\n",
    "    img += M_4deg[i] > 0\n",
    "\n",
    "print(img.max())\n",
    "print(img.mean())\n",
    "print(img.min())\n",
    "plt.imshow(img, cmap=\"gray\", vmin=img.min(), vmax=img.max())"
   ]
  },
  {
   "cell_type": "code",
   "execution_count": 18,
   "id": "85ffea64-f96c-4f26-a912-03d75f80100c",
   "metadata": {},
   "outputs": [
    {
     "name": "stdout",
     "output_type": "stream",
     "text": [
      "32.0\n",
      "28.784729586426298\n",
      "8.0\n"
     ]
    },
    {
     "data": {
      "text/plain": [
       "<matplotlib.image.AxesImage at 0x7f64662c9630>"
      ]
     },
     "execution_count": 18,
     "metadata": {},
     "output_type": "execute_result"
    },
    {
     "data": {
      "image/png": "[encoded data removed]",
      "text/plain": [
       "<Figure size 640x480 with 1 Axes>"
      ]
     },
     "metadata": {},
     "output_type": "display_data"
    }
   ],
   "source": [
    "img = np.zeros(M_4deg[0].shape)\n",
    "for i in range(M_4deg.shape[0]):\n",
    "    img += M_4deg[i] < 0\n",
    "\n",
    "print(img.max())\n",
    "print(img.mean())\n",
    "print(img.min())\n",
    "plt.imshow(img, cmap=\"gray\", vmin=img.min(), vmax=img.max())"
   ]
  },
  {
   "cell_type": "code",
   "execution_count": 19,
   "id": "3eae2847-e09f-41c7-b1af-5cf901b01710",
   "metadata": {},
   "outputs": [
    {
     "name": "stdout",
     "output_type": "stream",
     "text": [
      "64.0\n",
      "58.93107104984093\n",
      "16.0\n"
     ]
    },
    {
     "data": {
      "text/plain": [
       "<matplotlib.image.AxesImage at 0x7f64663506a0>"
      ]
     },
     "execution_count": 19,
     "metadata": {},
     "output_type": "execute_result"
    },
    {
     "data": {
      "image/png": "[encoded data removed]",
      "text/plain": [
       "<Figure size 640x480 with 1 Axes>"
      ]
     },
     "metadata": {},
     "output_type": "display_data"
    }
   ],
   "source": [
    "img = np.zeros(M_4deg[0].shape)\n",
    "for i in range(M_4deg.shape[0]):\n",
    "    img += M_4deg[i] != 0\n",
    "\n",
    "print(img.max())\n",
    "print(img.mean())\n",
    "print(img.min())\n",
    "plt.imshow(img, cmap=\"gray\", vmin=img.min(), vmax=img.max())"
   ]
  },
  {
   "cell_type": "code",
   "execution_count": 20,
   "id": "7848c8b5-e5b4-40ad-aedd-01f5716b0e1c",
   "metadata": {},
   "outputs": [
    {
     "data": {
      "image/png": "[encoded data removed]",
      "text/plain": [
       "<Figure size 1500x500 with 3 Axes>"
      ]
     },
     "metadata": {},
     "output_type": "display_data"
    }
   ],
   "source": [
    "fig, axs = plt.subplots(1,3, figsize=(15,5))\n",
    "for j in range(3):\n",
    "    ny = np.random.choice(mat_shape[0])\n",
    "    nx = np.random.choice(mat_shape[1])\n",
    "    out = np.zeros(mat_shape)\n",
    "    for i in range(M_4deg.shape[0]):\n",
    "        img = M_4deg[i]\n",
    "        if img[ny, nx] == 1:\n",
    "            out += img > 0\n",
    "    out = out / out.max()\n",
    "    axs[j].imshow(out, cmap=\"gray\", vmin=0, vmax=1)\n",
    "plt.show()"
   ]
  },
  {
   "cell_type": "markdown",
   "id": "705edd43-433e-4880-b7eb-530cbe8e18c8",
   "metadata": {},
   "source": [
    "### Copy result to bucket"
   ]
  },
  {
   "cell_type": "code",
   "execution_count": 21,
   "id": "770fe888-8f0b-49cb-84da-9f294386c77e",
   "metadata": {},
   "outputs": [
    {
     "name": "stdout",
     "output_type": "stream",
     "text": [
      "cp LSN_2d5DEG.npy /bucket/ReiterU/OLdev/experiments/visual_stim/20240603_LSN_matrix/\n",
      "cp LSN_5d0DEG.npy /bucket/ReiterU/OLdev/experiments/visual_stim/20240603_LSN_matrix/\n"
     ]
    }
   ],
   "source": [
    "print(\"cp LSN_2d5DEG.npy /bucket/ReiterU/OLdev/experiments/visual_stim/20240603_LSN_matrix/\")\n",
    "print(\"cp LSN_5d0DEG.npy /bucket/ReiterU/OLdev/experiments/visual_stim/20240603_LSN_matrix/\")"
   ]
  },
  {
   "cell_type": "code",
   "execution_count": null,
   "id": "24607e6b-edcf-401b-90b6-26134e9fd63c",
   "metadata": {},
   "outputs": [],
   "source": []
  }
 ],
 "metadata": {
  "kernelspec": {
   "display_name": "Python 3 (ipykernel)",
   "language": "python",
   "name": "python3"
  },
  "language_info": {
   "codemirror_mode": {
    "name": "ipython",
    "version": 3
   },
   "file_extension": ".py",
   "mimetype": "text/x-python",
   "name": "python",
   "nbconvert_exporter": "python",
   "pygments_lexer": "ipython3",
   "version": "3.10.13"
  }
 },
 "nbformat": 4,
 "nbformat_minor": 5
}

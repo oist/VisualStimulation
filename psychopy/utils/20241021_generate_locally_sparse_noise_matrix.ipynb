{
 "cells": [
  {
   "cell_type": "code",
   "execution_count": 21,
   "id": "7b662d86-d08e-4df7-9f7a-bf7dd6a00ebd",
   "metadata": {},
   "outputs": [],
   "source": [
    "import numpy as np\n",
    "from matplotlib import pyplot as plt\n",
    "from scipy import ndimage as ndi"
   ]
  },
  {
   "cell_type": "code",
   "execution_count": 22,
   "id": "e0f2a7fe-22b5-4cbe-8596-3e9ce29b87a9",
   "metadata": {},
   "outputs": [],
   "source": [
    "def locally_sparse_noise(matrix_shape, min_distance, min_distance_bw_frames, num_squares):\n",
    "    \"\"\"\n",
    "    Base function to generate locally sparse noise (LSN) matrix.\n",
    "    \n",
    "    Parameters\n",
    "    ----------\n",
    "    matrix_shape: [int, int]\n",
    "        height and width\n",
    "    min_distance: int\n",
    "        Minimum distance allowed between the center of squares\n",
    "    min_distance_bw_frames: int\n",
    "        Minimum distance allowed between consecutive frames\n",
    "    num_squares: int\n",
    "        Number of squares in one frame\n",
    "    \n",
    "    Returns\n",
    "    -------\n",
    "    mat: 2D array\n",
    "    mat.shape[0] will be approximately (matrix_shape[0]*matrix_shape[1]/num_squares) but this is stochastic\n",
    "    mat.shape[1] will be 2, corresponding to the 2D indices of the square positions\n",
    "    \"\"\"\n",
    "    x = np.arange(matrix_shape[1])\n",
    "    y = np.arange(matrix_shape[0])\n",
    "    bag = np.array(np.meshgrid(y, x)).T.reshape(-1,2)\n",
    "    bag_indices = np.arange(bag.shape[0])\n",
    "\n",
    "    mat = []\n",
    "    exit_loop = False\n",
    "    prev = np.array([[1e10, 1e10]])\n",
    "    while True:\n",
    "        # get first element from the bag\n",
    "        i = np.random.choice(bag_indices)\n",
    "        out = np.array([bag[i]])\n",
    "        bag_indices= np.delete(bag_indices, (bag_indices==i).argmax())\n",
    "        count = 0\n",
    "        while True:\n",
    "            count += 1\n",
    "            # get the next element from the bag\n",
    "            i = np.random.choice(bag_indices)\n",
    "            n = bag[i]\n",
    "            dist1 = np.sqrt((n[0] - out[:,0])**2 + (n[1]- out[:,1])**2)\n",
    "            dist2 = np.sqrt((n[0] - prev[:,0])**2 + (n[1]- prev[:,1])**2)\n",
    "            if dist1.min() > min_distance and dist2.min() > min_distance_bw_frames:\n",
    "                out = np.concatenate((out, [n]), axis=0)\n",
    "                bag_indices = np.delete(bag_indices, (bag_indices==i).argmax())\n",
    "            if out.shape[0] >= num_squares:\n",
    "                prev = out.copy()\n",
    "                break\n",
    "            if count > 10000:\n",
    "                # if you cannot find a good pair in 100 attempts, there is no more possible combinations, so exit the loop\n",
    "                exit_loop = True\n",
    "                break\n",
    "        if exit_loop:\n",
    "            break\n",
    "        else:\n",
    "            mat.append(out)\n",
    "        if bag_indices.size < num_squares:\n",
    "            # if bag is almost empty, exit the loop\n",
    "            break\n",
    "    return np.array(mat)"
   ]
  },
  {
   "cell_type": "code",
   "execution_count": 23,
   "id": "9bd6d212-7693-4435-b632-5ec7e323c696",
   "metadata": {},
   "outputs": [],
   "source": [
    "def main(monitor_pixel_dims, monitor_real_width, distance_to_monitor, unit_degree, num_squares, min_square_distance_degree, num_repeats, occupancy=0.98):\n",
    "    \"\"\"\n",
    "    Main function\n",
    "    \"\"\"\n",
    "    C = monitor_real_width/2\n",
    "    A = distance_to_monitor\n",
    "    B = np.sqrt((A**2)+(C**2))\n",
    "    w = ((B**2)+(B**2)-monitor_real_width**2)/(2*(B**2))\n",
    "    W = np.rad2deg(np.arccos(w))\n",
    "    print(\"Total viewing angle (horizontal)\", W)\n",
    "    \n",
    "    unit_pixels = np.floor(monitor_pixel_dims[1]/W*unit_degree)\n",
    "    matrix_shape = np.array(monitor_pixel_dims)/unit_pixels\n",
    "    matrix_shape = np.floor(matrix_shape).astype(\"int\")\n",
    "    min_square_distance_pixels = min_square_distance_degree / unit_degree\n",
    "    print(\"Unit pixels:\", unit_pixels)\n",
    "    print(\"Output matrix size:\", matrix_shape)\n",
    "    print(\"Min square distance in pixels\", min_square_distance_pixels)\n",
    "\n",
    "    g = []\n",
    "    c = 0\n",
    "    running_sum = np.zeros(matrix_shape)\n",
    "    while True:\n",
    "        if len(g) >= num_repeats:\n",
    "            break\n",
    "        c += 1\n",
    "        if c > 3000:\n",
    "            raise ValueError(\"FAILED TO FIND MATRIX!\")\n",
    "        m = locally_sparse_noise(matrix_shape, min_square_distance_pixels, int(min_square_distance_pixels/2), num_squares)\n",
    "        chosen = m.copy().reshape(-1, 2)\n",
    "        if len(g) == 0:\n",
    "            lowest = np.array([[0,0]])\n",
    "        else:\n",
    "            lowest = np.dstack(np.where(running_sum == running_sum.min()))[0]\n",
    "        if m.shape[0] > matrix_shape[0] * matrix_shape[1] / num_squares * occupancy:\n",
    "            if np.all(lowest[:, None] == chosen, axis=2).any(axis=1).sum() > lowest.shape[0] * 0.99:\n",
    "                g.append(m)\n",
    "                print(m.shape[0])\n",
    "                for i in range(len(m)):\n",
    "                    running_sum[m[i][:,0], m[i][:,1]] += 1\n",
    "                c = 0\n",
    "\n",
    "    for i in range(len(g)):\n",
    "        if i == 0:\n",
    "            G = g[0]\n",
    "        else:\n",
    "            G = np.concatenate((G, g[i]), axis=0)\n",
    "\n",
    "    return G, matrix_shape"
   ]
  },
  {
   "cell_type": "markdown",
   "id": "a3186baa-2f7b-4e8b-90db-ac358a94c915",
   "metadata": {},
   "source": [
    "## Compute the locally sparse grid (2 degree)"
   ]
  },
  {
   "cell_type": "code",
   "execution_count": 24,
   "id": "059eb0e0-a66b-49d4-ad69-1046cdf051f4",
   "metadata": {},
   "outputs": [
    {
     "name": "stdout",
     "output_type": "stream",
     "text": [
      "Total viewing angle (horizontal) 107.803432065784\n",
      "Unit pixels: 23.0\n",
      "Output matrix size: [31 55]\n",
      "Min square distance in pixels 4.5\n",
      "62\n",
      "62\n",
      "62\n",
      "62\n",
      "62\n",
      "62\n",
      "62\n",
      "62\n",
      "62\n",
      "62\n",
      "62\n",
      "62\n",
      "62\n",
      "62\n",
      "62\n",
      "62\n",
      "62\n",
      "62\n",
      "62\n",
      "62\n",
      "(1240, 27, 2) [31 55]\n"
     ]
    }
   ],
   "source": [
    "monitor_pixel_dims = [720, 1280] # pixels; height x width\n",
    "monitor_real_width = 19.2 # cm\n",
    "distance_to_monitor = 7.0 # cm\n",
    "unit_degree = 2.0 # degrees\n",
    "min_square_distance_degree = 9 # degrees\n",
    "num_squares = 27\n",
    "num_repeats = 20\n",
    "\n",
    "M, mat_shape = main(monitor_pixel_dims, monitor_real_width, distance_to_monitor, unit_degree, num_squares, min_square_distance_degree, num_repeats, occupancy=0.98)\n",
    "\n",
    "print(M.shape, mat_shape)"
   ]
  },
  {
   "cell_type": "code",
   "execution_count": 25,
   "id": "139e51bf-f9dc-47c0-9db2-18ab7eeac90a",
   "metadata": {},
   "outputs": [
    {
     "name": "stdout",
     "output_type": "stream",
     "text": [
      "20.0\n",
      "19.636363636363637\n",
      "18.0\n",
      "94\n"
     ]
    },
    {
     "data": {
      "text/plain": [
       "<matplotlib.image.AxesImage at 0x7f37629c42b0>"
      ]
     },
     "execution_count": 25,
     "metadata": {},
     "output_type": "execute_result"
    },
    {
     "data": {
      "image/png": "[encoded data removed]",
      "text/plain": [
       "<Figure size 640x480 with 1 Axes>"
      ]
     },
     "metadata": {},
     "output_type": "display_data"
    }
   ],
   "source": [
    "### Check 1: Show the sum of all frames\n",
    "\n",
    "img = np.zeros(mat_shape)\n",
    "for i in range(len(M)):\n",
    "    img[M[i][:,0], M[i][:,1]] += 1\n",
    "\n",
    "print(img.max())\n",
    "print(img.mean())\n",
    "print(img.min())\n",
    "print((img==img.min()).sum())\n",
    "plt.imshow(img, cmap=\"gray\", vmin=img.min(), vmax=img.max())"
   ]
  },
  {
   "cell_type": "code",
   "execution_count": 26,
   "id": "6d85dff1-1cf4-47c3-a367-33646d078fa5",
   "metadata": {},
   "outputs": [
    {
     "data": {
      "image/png": "[encoded data removed]",
      "text/plain": [
       "<Figure size 1500x500 with 3 Axes>"
      ]
     },
     "metadata": {},
     "output_type": "display_data"
    }
   ],
   "source": [
    "### Check 2: Show the activation of a given index\n",
    "\n",
    "fig, axs = plt.subplots(1,3, figsize=(15,5))\n",
    "for j in range(3):\n",
    "    ny = np.random.choice(31)\n",
    "    nx = np.random.choice(55)\n",
    "    out = np.zeros(mat_shape)\n",
    "    for i in range(len(M)):\n",
    "        img = np.zeros(mat_shape)\n",
    "        img[M[i][:,0], M[i][:,1]] += 1\n",
    "        if img[ny, nx] == 1:\n",
    "            out += img\n",
    "    out = out / out.max()\n",
    "    axs[j].imshow(out, cmap=\"gray\", vmin=0, vmax=1)\n",
    "plt.show()"
   ]
  },
  {
   "cell_type": "code",
   "execution_count": 27,
   "id": "a79993b6-612d-4a5d-80c6-286ee809ab18",
   "metadata": {},
   "outputs": [],
   "source": [
    "### Generate the matrix (square size = 4 degrees)\n",
    "\n",
    "lsn_mat = []\n",
    "for i in range(len(M)):\n",
    "    img = np.zeros(mat_shape)\n",
    "    img[M[i][:,0], M[i][:,1]] += 1\n",
    "    lsn_mat.append(img)\n",
    "lsn_mat = np.array(lsn_mat)\n",
    "\n",
    "# make half of the squares white and the other half black\n",
    "for ny in range(lsn_mat.shape[1]):\n",
    "    for nx in range(lsn_mat.shape[2]):\n",
    "        col = lsn_mat[:, ny, nx]\n",
    "        idx = np.where(col==1)\n",
    "        black_idx = np.random.choice(idx[0], (int(idx[0].size/2)), replace=False)\n",
    "        lsn_mat[black_idx, ny, nx] = -1"
   ]
  },
  {
   "cell_type": "code",
   "execution_count": 28,
   "id": "87b56b66-b66c-4a19-81d0-1655e4a0676b",
   "metadata": {},
   "outputs": [
    {
     "data": {
      "image/png": "[encoded data removed]",
      "text/plain": [
       "<Figure size 1500x500 with 3 Axes>"
      ]
     },
     "metadata": {},
     "output_type": "display_data"
    }
   ],
   "source": [
    "# np.random.seed(2024)\n",
    "fig, axs = plt.subplots(1,3, figsize=(15,5))\n",
    "i = np.random.choice(lsn_mat.shape[0])\n",
    "for j in range(3):\n",
    "    img = lsn_mat[i+j]\n",
    "    axs[j].imshow(img, cmap=\"gray\", vmin=-1, vmax=1)\n",
    "    axs[j].set_title(str(i))\n",
    "plt.show()"
   ]
  },
  {
   "cell_type": "code",
   "execution_count": 29,
   "id": "8c4c6126-4f64-42d8-a295-aece91227a65",
   "metadata": {},
   "outputs": [],
   "source": [
    "np.save('LSN_2DEG.npy', lsn_mat, allow_pickle=True)"
   ]
  },
  {
   "cell_type": "markdown",
   "id": "99ce2c6a-8a98-4bba-848c-6fd17b9388ef",
   "metadata": {},
   "source": [
    "## Compute the locally sparse grid (4 degree)"
   ]
  },
  {
   "cell_type": "code",
   "execution_count": 5,
   "id": "2a062a49-1064-4b66-abad-2b4c8c8e9a61",
   "metadata": {},
   "outputs": [
    {
     "name": "stdout",
     "output_type": "stream",
     "text": [
      "Total viewing angle (horizontal) 107.803432065784\n",
      "Unit pixels: 47.0\n",
      "Output matrix size: [15 27]\n",
      "Min square distance in pixels 2.75\n",
      "25\n",
      "25\n",
      "25\n",
      "25\n",
      "25\n",
      "25\n",
      "25\n",
      "25\n",
      "25\n",
      "25\n",
      "25\n",
      "25\n",
      "25\n",
      "25\n",
      "25\n",
      "25\n",
      "25\n",
      "25\n",
      "25\n",
      "25\n",
      "(500, 16, 2) [15 27]\n"
     ]
    }
   ],
   "source": [
    "monitor_pixel_dims = [720, 1280] # pixels; height x width\n",
    "monitor_real_width = 19.2 # cm\n",
    "distance_to_monitor = 7.0 # cm\n",
    "unit_degree = 4.0 # degrees\n",
    "min_square_distance_degree = 11 # degrees\n",
    "num_squares = 16\n",
    "num_repeats = 20\n",
    "\n",
    "M, mat_shape = main(monitor_pixel_dims, monitor_real_width, distance_to_monitor, unit_degree, num_squares, min_square_distance_degree, num_repeats)\n",
    "\n",
    "print(M.shape, mat_shape)"
   ]
  },
  {
   "cell_type": "code",
   "execution_count": 6,
   "id": "52aaea9d-2838-432d-a3ea-6f5c44e13c57",
   "metadata": {},
   "outputs": [
    {
     "name": "stdout",
     "output_type": "stream",
     "text": [
      "20.0\n",
      "19.753086419753085\n",
      "19.0\n",
      "100\n"
     ]
    },
    {
     "data": {
      "text/plain": [
       "<matplotlib.image.AxesImage at 0x7f3765491cf0>"
      ]
     },
     "execution_count": 6,
     "metadata": {},
     "output_type": "execute_result"
    },
    {
     "data": {
      "image/png": "[encoded data removed]",
      "text/plain": [
       "<Figure size 640x480 with 1 Axes>"
      ]
     },
     "metadata": {},
     "output_type": "display_data"
    }
   ],
   "source": [
    "### Check 1: Show the sum of all frames\n",
    "\n",
    "img = np.zeros(mat_shape)\n",
    "for i in range(len(M)):\n",
    "    img[M[i][:,0], M[i][:,1]] += 1\n",
    "\n",
    "print(img.max())\n",
    "print(img.mean())\n",
    "print(img.min())\n",
    "print((img==img.min()).sum())\n",
    "plt.imshow(img, cmap=\"gray\", vmin=img.min(), vmax=img.max())"
   ]
  },
  {
   "cell_type": "code",
   "execution_count": 7,
   "id": "86694dff-a620-4ff4-92b9-5da53ed2c02f",
   "metadata": {},
   "outputs": [
    {
     "data": {
      "image/png": "[encoded data removed]",
      "text/plain": [
       "<Figure size 1500x500 with 3 Axes>"
      ]
     },
     "metadata": {},
     "output_type": "display_data"
    }
   ],
   "source": [
    "### Check 2: Show the activation of a given index\n",
    "\n",
    "fig, axs = plt.subplots(1,3, figsize=(15,5))\n",
    "for j in range(3):\n",
    "    ny = np.random.choice(15)\n",
    "    nx = np.random.choice(27)\n",
    "    out = np.zeros(mat_shape)\n",
    "    for i in range(len(M)):\n",
    "        img = np.zeros(mat_shape)\n",
    "        img[M[i][:,0], M[i][:,1]] += 1\n",
    "        if img[ny, nx] == 1:\n",
    "            out += img\n",
    "    out = out / out.max()\n",
    "    axs[j].imshow(out, cmap=\"gray\", vmin=0, vmax=1)\n",
    "plt.show()"
   ]
  },
  {
   "cell_type": "code",
   "execution_count": 8,
   "id": "d5f0d480-1b37-45a2-98f7-1907afc6d69f",
   "metadata": {},
   "outputs": [],
   "source": [
    "### Generate the matrix (square size = 4 degrees)\n",
    "\n",
    "lsn_mat = []\n",
    "for i in range(len(M)):\n",
    "    img = np.zeros(mat_shape)\n",
    "    img[M[i][:,0], M[i][:,1]] += 1\n",
    "    lsn_mat.append(img)\n",
    "lsn_mat = np.array(lsn_mat)\n",
    "\n",
    "# make half of the squares white and the other half black\n",
    "for ny in range(lsn_mat.shape[1]):\n",
    "    for nx in range(lsn_mat.shape[2]):\n",
    "        col = lsn_mat[:, ny, nx]\n",
    "        idx = np.where(col==1)\n",
    "        black_idx = np.random.choice(idx[0], (int(idx[0].size/2)), replace=False)\n",
    "        lsn_mat[black_idx, ny, nx] = -1"
   ]
  },
  {
   "cell_type": "code",
   "execution_count": 9,
   "id": "4a013d8d-fe5f-4a10-baa4-56bdc19f9f1f",
   "metadata": {},
   "outputs": [
    {
     "data": {
      "image/png": "[encoded data removed]",
      "text/plain": [
       "<Figure size 1500x500 with 3 Axes>"
      ]
     },
     "metadata": {},
     "output_type": "display_data"
    }
   ],
   "source": [
    "fig, axs = plt.subplots(1,3, figsize=(15,5))\n",
    "i = np.random.choice(lsn_mat.shape[0])\n",
    "for j in range(3):\n",
    "    img = lsn_mat[i+j]\n",
    "    axs[j].imshow(img, cmap=\"gray\", vmin=-1, vmax=1)\n",
    "    axs[j].set_title(str(i))\n",
    "plt.show()"
   ]
  },
  {
   "cell_type": "code",
   "execution_count": 10,
   "id": "29a66961-5e36-4b0c-b3d9-c4ee5b6e1ac3",
   "metadata": {},
   "outputs": [],
   "source": [
    "np.save('LSN_4DEG.npy', lsn_mat, allow_pickle=True)"
   ]
  },
  {
   "cell_type": "markdown",
   "id": "fa678abe-d4e0-4f7e-922c-3d3a7c401cf9",
   "metadata": {},
   "source": [
    "## Compute the locally sparse grid (8 degree)"
   ]
  },
  {
   "cell_type": "code",
   "execution_count": 31,
   "id": "769b0237-3ede-4ebf-8c29-76a827e86469",
   "metadata": {},
   "outputs": [
    {
     "name": "stdout",
     "output_type": "stream",
     "text": [
      "Total viewing angle (horizontal) 107.803432065784\n",
      "Unit pixels: 94.0\n",
      "Output matrix size: [ 7 13]\n",
      "Min square distance in pixels 1.5\n",
      "13\n",
      "13\n",
      "13\n",
      "13\n",
      "13\n",
      "13\n",
      "13\n",
      "13\n",
      "13\n",
      "13\n",
      "13\n",
      "13\n",
      "13\n",
      "13\n",
      "13\n",
      "13\n",
      "13\n",
      "13\n",
      "13\n",
      "13\n",
      "(260, 7, 2) [ 7 13]\n"
     ]
    }
   ],
   "source": [
    "monitor_pixel_dims = [720, 1280] # pixels; height x width\n",
    "monitor_real_width = 19.2 # cm\n",
    "distance_to_monitor = 7.0 # cm\n",
    "unit_degree = 8.0 # degrees\n",
    "min_square_distance_degree = 12 # degrees\n",
    "num_squares = 7\n",
    "num_repeats = 20\n",
    "\n",
    "M, mat_shape = main(monitor_pixel_dims, monitor_real_width, distance_to_monitor, unit_degree, num_squares, min_square_distance_degree, num_repeats)\n",
    "\n",
    "print(M.shape, mat_shape)"
   ]
  },
  {
   "cell_type": "code",
   "execution_count": 32,
   "id": "4eed338c-41b3-4328-8552-f906b6cd094e",
   "metadata": {},
   "outputs": [
    {
     "name": "stdout",
     "output_type": "stream",
     "text": [
      "20.0\n",
      "20.0\n",
      "20.0\n",
      "91\n"
     ]
    },
    {
     "data": {
      "text/plain": [
       "<matplotlib.image.AxesImage at 0x7f3762b58dc0>"
      ]
     },
     "execution_count": 32,
     "metadata": {},
     "output_type": "execute_result"
    },
    {
     "data": {
      "image/png": "[encoded data removed]",
      "text/plain": [
       "<Figure size 640x480 with 1 Axes>"
      ]
     },
     "metadata": {},
     "output_type": "display_data"
    }
   ],
   "source": [
    "### Check 1: Show the sum of all frames\n",
    "\n",
    "img = np.zeros(mat_shape)\n",
    "for i in range(len(M)):\n",
    "    img[M[i][:,0], M[i][:,1]] += 1\n",
    "\n",
    "print(img.max())\n",
    "print(img.mean())\n",
    "print(img.min())\n",
    "print((img==img.min()).sum())\n",
    "plt.imshow(img, cmap=\"gray\", vmin=img.min(), vmax=img.max())"
   ]
  },
  {
   "cell_type": "code",
   "execution_count": 33,
   "id": "57748747-5eee-4fcb-bd81-0318dc316994",
   "metadata": {},
   "outputs": [
    {
     "data": {
      "image/png": "[encoded data removed]",
      "text/plain": [
       "<Figure size 1500x500 with 3 Axes>"
      ]
     },
     "metadata": {},
     "output_type": "display_data"
    }
   ],
   "source": [
    "### Check 2: Show the activation of a given index\n",
    "\n",
    "fig, axs = plt.subplots(1,3, figsize=(15,5))\n",
    "for j in range(3):\n",
    "    ny = np.random.choice(7)\n",
    "    nx = np.random.choice(13)\n",
    "    out = np.zeros(mat_shape)\n",
    "    for i in range(len(M)):\n",
    "        img = np.zeros(mat_shape)\n",
    "        img[M[i][:,0], M[i][:,1]] += 1\n",
    "        if img[ny, nx] == 1:\n",
    "            out += img\n",
    "    out = out / out.max()\n",
    "    axs[j].imshow(out, cmap=\"gray\", vmin=0, vmax=1)\n",
    "plt.show()"
   ]
  },
  {
   "cell_type": "code",
   "execution_count": 34,
   "id": "4f617274-5d63-400d-a2bc-8dfc746a8733",
   "metadata": {},
   "outputs": [],
   "source": [
    "### Generate the matrix (square size = 4 degrees)\n",
    "\n",
    "lsn_mat = []\n",
    "for i in range(len(M)):\n",
    "    img = np.zeros(mat_shape)\n",
    "    img[M[i][:,0], M[i][:,1]] += 1\n",
    "    lsn_mat.append(img)\n",
    "lsn_mat = np.array(lsn_mat)\n",
    "\n",
    "# make half of the squares white and the other half black\n",
    "for ny in range(lsn_mat.shape[1]):\n",
    "    for nx in range(lsn_mat.shape[2]):\n",
    "        col = lsn_mat[:, ny, nx]\n",
    "        idx = np.where(col==1)\n",
    "        black_idx = np.random.choice(idx[0], (int(idx[0].size/2)), replace=False)\n",
    "        lsn_mat[black_idx, ny, nx] = -1"
   ]
  },
  {
   "cell_type": "code",
   "execution_count": 35,
   "id": "6f1159cd-2451-474d-a8b6-25e1eea4d037",
   "metadata": {},
   "outputs": [
    {
     "data": {
      "image/png": "[encoded data removed]",
      "text/plain": [
       "<Figure size 1500x500 with 3 Axes>"
      ]
     },
     "metadata": {},
     "output_type": "display_data"
    }
   ],
   "source": [
    "fig, axs = plt.subplots(1,3, figsize=(15,5))\n",
    "i = np.random.choice(lsn_mat.shape[0])\n",
    "for j in range(3):\n",
    "    img = lsn_mat[i+j]\n",
    "    axs[j].imshow(img, cmap=\"gray\", vmin=-1, vmax=1)\n",
    "    axs[j].set_title(str(i+j))\n",
    "plt.show()"
   ]
  },
  {
   "cell_type": "code",
   "execution_count": 36,
   "id": "332999d2-d224-4598-8acc-61c6d64d005b",
   "metadata": {},
   "outputs": [],
   "source": [
    "np.save('LSN_8DEG.npy', lsn_mat, allow_pickle=True)"
   ]
  },
  {
   "cell_type": "markdown",
   "id": "705edd43-433e-4880-b7eb-530cbe8e18c8",
   "metadata": {},
   "source": [
    "### Copy result to bucket"
   ]
  },
  {
   "cell_type": "code",
   "execution_count": null,
   "id": "770fe888-8f0b-49cb-84da-9f294386c77e",
   "metadata": {},
   "outputs": [],
   "source": [
    "print(\"cp LSN_4DEG.npy /bucket/ReiterU/OLdev/experiments/visual_stim/20241021_LSN_matrix/\")"
   ]
  },
  {
   "cell_type": "code",
   "execution_count": null,
   "id": "24607e6b-edcf-401b-90b6-26134e9fd63c",
   "metadata": {},
   "outputs": [],
   "source": []
  }
 ],
 "metadata": {
  "kernelspec": {
   "display_name": "Python 3 (ipykernel)",
   "language": "python",
   "name": "python3"
  },
  "language_info": {
   "codemirror_mode": {
    "name": "ipython",
    "version": 3
   },
   "file_extension": ".py",
   "mimetype": "text/x-python",
   "name": "python",
   "nbconvert_exporter": "python",
   "pygments_lexer": "ipython3",
   "version": "3.10.14"
  }
 },
 "nbformat": 4,
 "nbformat_minor": 5
}

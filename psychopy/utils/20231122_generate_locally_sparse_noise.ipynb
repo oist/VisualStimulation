{
 "cells": [
  {
   "cell_type": "code",
   "execution_count": 1,
   "metadata": {},
   "outputs": [],
   "source": [
    "import numpy as np\n",
    "from matplotlib import pyplot as plt\n",
    "from scipy import ndimage as ndi"
   ]
  },
  {
   "cell_type": "code",
   "execution_count": 2,
   "metadata": {},
   "outputs": [],
   "source": [
    "def locally_sparse_noise(matrix_shape, min_distance, min_distance_bw_frames, num_squares):\n",
    "    \"\"\"\n",
    "    Base function to generate locally sparse noise (LSN) matrix.\n",
    "    \n",
    "    Parameters\n",
    "    ----------\n",
    "    matrix_shape: [int, int]\n",
    "        height and width\n",
    "    min_distance: int\n",
    "        Minimum distance allowed between the center of squares\n",
    "    min_distance_bw_frames: int\n",
    "        Minimum distance allowed between consecutive frames\n",
    "    num_squares: int\n",
    "        Number of squares in one frame\n",
    "    \n",
    "    Returns\n",
    "    -------\n",
    "    mat: 2D array\n",
    "    mat.shape[0] will be approximately (matrix_shape[0]*matrix_shape[1]/num_squares) but this is stochastic\n",
    "    mat.shape[1] will be 2, corresponding to the 2D indices of the square positions\n",
    "    \"\"\"\n",
    "    x = np.arange(matrix_shape[1])\n",
    "    y = np.arange(matrix_shape[0])\n",
    "    bag = np.array(np.meshgrid(y, x)).T.reshape(-1,2)\n",
    "    bag_indices = np.arange(bag.shape[0])\n",
    "\n",
    "    mat = []\n",
    "    exit_loop = False\n",
    "    prev = np.array([[1e10, 1e10]])\n",
    "    while True:\n",
    "        # get first element from the bag\n",
    "        i = np.random.choice(bag_indices)\n",
    "        out = np.array([bag[i]])\n",
    "        bag_indices= np.delete(bag_indices, (bag_indices==i).argmax())\n",
    "        count = 0\n",
    "        while True:\n",
    "            # get the next element from the bag\n",
    "            i = np.random.choice(bag_indices)\n",
    "            n = bag[i]\n",
    "            dist1 = np.sqrt((n[0] - out[:,0])**2 + (n[1]- out[:,1])**2)\n",
    "            dist2 = np.sqrt((n[0] - prev[:,0])**2 + (n[1]- prev[:,1])**2)\n",
    "            if dist1.min() > min_distance and dist2.min() > min_distance_bw_frames:\n",
    "                out = np.concatenate((out, [n]), axis=0)\n",
    "                bag_indices = np.delete(bag_indices, (bag_indices==i).argmax())\n",
    "            if out.shape[0] >= num_squares:\n",
    "                prev = out.copy()\n",
    "                break\n",
    "            count += 1\n",
    "            if count > 1000:\n",
    "                # if you cannot find a good pair in 100 attempts, there is no more possible combinations, so exit the loop\n",
    "                exit_loop = True\n",
    "                break\n",
    "        if exit_loop:\n",
    "            break\n",
    "        else:\n",
    "            mat.append(out)\n",
    "        if bag_indices.size < num_squares:\n",
    "            # if bag is almost empty, exit the loop\n",
    "            break\n",
    "    return np.array(mat)"
   ]
  },
  {
   "cell_type": "code",
   "execution_count": 3,
   "metadata": {},
   "outputs": [],
   "source": [
    "def main(monitor_pixel_dims, monitor_real_width, distance_to_monitor, unit_degree, num_squares, min_square_distance_degree, num_repeats):\n",
    "    \"\"\"\n",
    "    Main function\n",
    "    \"\"\"\n",
    "    C = monitor_real_width/2\n",
    "    A = distance_to_monitor\n",
    "    B = np.sqrt((A**2)+(C**2))\n",
    "    w = ((B**2)+(B**2)-monitor_real_width**2)/(2*(B**2))\n",
    "    W = np.rad2deg(np.arccos(w))\n",
    "    print(\"Total viewing angle (horizontal)\", W)\n",
    "    \n",
    "    unit_pixels = np.floor(monitor_pixel_dims[1]/W*unit_degree)\n",
    "    matrix_shape = np.array(monitor_pixel_dims)/unit_pixels\n",
    "    matrix_shape = np.floor(matrix_shape).astype(\"int\")\n",
    "    min_square_distance_pixels = min_square_distance_degree / unit_degree\n",
    "    print(\"Unit pixels:\", unit_pixels)\n",
    "    print(\"Output matrix size:\", matrix_shape)\n",
    "\n",
    "    g = []\n",
    "    c = 0\n",
    "    while True:\n",
    "        m = locally_sparse_noise(matrix_shape, min_square_distance_pixels, int(min_square_distance_pixels/2), num_squares)\n",
    "        if m.shape[0] > matrix_shape[0] * matrix_shape[1] / num_squares * 0.99:\n",
    "            g.append(m)\n",
    "            print(m.shape[0])\n",
    "        if len(g) >= num_repeats:\n",
    "            break\n",
    "        c += 1\n",
    "        if c > 1000:\n",
    "            raise ValueError(\"FAIL!\")\n",
    "    \n",
    "    for i in range(len(g)):\n",
    "        if i == 0:\n",
    "            G = g[0]\n",
    "        else:\n",
    "            G = np.concatenate((G, g[i]), axis=0)\n",
    "    \n",
    "    return G, matrix_shape"
   ]
  },
  {
   "cell_type": "markdown",
   "metadata": {},
   "source": [
    "### Compute the locally sparse grid"
   ]
  },
  {
   "cell_type": "code",
   "execution_count": 4,
   "metadata": {
    "scrolled": true
   },
   "outputs": [
    {
     "name": "stdout",
     "output_type": "stream",
     "text": [
      "Total viewing angle (horizontal) 93.94986802176395\n",
      "Unit pixels: 27.0\n",
      "Output matrix size: [26 47]\n",
      "101\n",
      "101\n",
      "101\n",
      "101\n",
      "101\n",
      "101\n",
      "101\n",
      "101\n",
      "101\n",
      "101\n",
      "101\n",
      "101\n",
      "101\n",
      "101\n",
      "101\n",
      "101\n",
      "101\n",
      "101\n",
      "101\n",
      "101\n"
     ]
    }
   ],
   "source": [
    "monitor_pixel_dims = [720, 1280] # pixels; height x width\n",
    "monitor_real_width = 15.0 # cm\n",
    "distance_to_monitor = 7.0 # cm\n",
    "unit_degree = 2 # degrees\n",
    "num_squares = 12\n",
    "min_square_distance_degree = 10 # degrees\n",
    "num_repeats = 20\n",
    "\n",
    "M, mat_shape = main(monitor_pixel_dims, monitor_real_width, distance_to_monitor, unit_degree, num_squares, min_square_distance_degree, num_repeats)"
   ]
  },
  {
   "cell_type": "code",
   "execution_count": 5,
   "metadata": {},
   "outputs": [
    {
     "name": "stdout",
     "output_type": "stream",
     "text": [
      "(2020, 12, 2)\n",
      "[26 47]\n"
     ]
    }
   ],
   "source": [
    "print(M.shape)\n",
    "print(mat_shape)"
   ]
  },
  {
   "cell_type": "markdown",
   "metadata": {},
   "source": [
    "### Check 1: Show some of the example frames"
   ]
  },
  {
   "cell_type": "code",
   "execution_count": 6,
   "metadata": {
    "scrolled": false
   },
   "outputs": [
    {
     "data": {
      "image/png": "[encoded data removed]",
      "text/plain": [
       "<Figure size 1080x360 with 3 Axes>"
      ]
     },
     "metadata": {
      "needs_background": "light"
     },
     "output_type": "display_data"
    }
   ],
   "source": [
    "fig, axs = plt.subplots(1,3, figsize=(15,5))\n",
    "for j in range(3):\n",
    "    i = np.random.choice(M.shape[0])\n",
    "    img = np.zeros(mat_shape)\n",
    "    img[M[i][:,0], M[i][:,1]] += 1\n",
    "    axs[j].imshow(img)\n",
    "    axs[j].set_title(str(i))\n",
    "plt.show()"
   ]
  },
  {
   "cell_type": "markdown",
   "metadata": {},
   "source": [
    "### Check 2: Show the sum of all frames"
   ]
  },
  {
   "cell_type": "code",
   "execution_count": 7,
   "metadata": {},
   "outputs": [
    {
     "name": "stdout",
     "output_type": "stream",
     "text": [
      "20.0\n",
      "19.83633387888707\n",
      "18.0\n"
     ]
    },
    {
     "data": {
      "text/plain": [
       "<matplotlib.image.AxesImage at 0x7f1ba7880470>"
      ]
     },
     "execution_count": 7,
     "metadata": {},
     "output_type": "execute_result"
    },
    {
     "data": {
      "image/png": "[encoded data removed]",
      "text/plain": [
       "<Figure size 432x288 with 1 Axes>"
      ]
     },
     "metadata": {
      "needs_background": "light"
     },
     "output_type": "display_data"
    }
   ],
   "source": [
    "img = np.zeros(mat_shape)\n",
    "for i in range(len(M)):\n",
    "    img[M[i][:,0], M[i][:,1]] += 1\n",
    "\n",
    "print(img.max())\n",
    "print(img.mean())\n",
    "print(img.min())\n",
    "plt.imshow(img, cmap=\"gray\", vmin=img.min(), vmax=img.max())"
   ]
  },
  {
   "cell_type": "markdown",
   "metadata": {},
   "source": [
    "### Check 3: Show the activation of a given index"
   ]
  },
  {
   "cell_type": "code",
   "execution_count": 8,
   "metadata": {},
   "outputs": [
    {
     "data": {
      "image/png": "[encoded data removed]",
      "text/plain": [
       "<Figure size 1080x360 with 3 Axes>"
      ]
     },
     "metadata": {
      "needs_background": "light"
     },
     "output_type": "display_data"
    }
   ],
   "source": [
    "fig, axs = plt.subplots(1,3, figsize=(15,5))\n",
    "for j in range(3):\n",
    "    ny = np.random.choice(24)\n",
    "    nx = np.random.choice(42)\n",
    "    out = np.zeros(mat_shape)\n",
    "    for i in range(len(M)):\n",
    "        img = np.zeros(mat_shape)\n",
    "        img[M[i][:,0], M[i][:,1]] += 1\n",
    "        if img[ny, nx] == 1:\n",
    "            out += img\n",
    "    out = out / out.max()\n",
    "    axs[j].imshow(out, cmap=\"gray\", vmin=0, vmax=1)\n",
    "plt.show()"
   ]
  },
  {
   "cell_type": "markdown",
   "metadata": {},
   "source": [
    "### Generate the matrix (square size = 2 degrees)"
   ]
  },
  {
   "cell_type": "code",
   "execution_count": 9,
   "metadata": {},
   "outputs": [],
   "source": [
    "M_2deg = []\n",
    "for i in range(len(M)):\n",
    "    img = np.zeros(mat_shape)\n",
    "    img[M[i][:,0], M[i][:,1]] += 1\n",
    "    M_2deg.append(img)\n",
    "M_2deg = np.array(M_2deg)\n",
    "\n",
    "# make half of the squares white and the other half black\n",
    "for ny in range(M_2deg.shape[1]):\n",
    "    for nx in range(M_2deg.shape[2]):\n",
    "        col = M_2deg[:, ny, nx]\n",
    "        idx = np.where(col==1)\n",
    "        black_idx = np.random.choice(idx[0], (int(idx[0].size/2)), replace=False)\n",
    "        M_2deg[black_idx, ny, nx] = -1"
   ]
  },
  {
   "cell_type": "markdown",
   "metadata": {},
   "source": [
    "Show some of the example frames"
   ]
  },
  {
   "cell_type": "code",
   "execution_count": 10,
   "metadata": {},
   "outputs": [
    {
     "data": {
      "image/png": "[encoded data removed]",
      "text/plain": [
       "<Figure size 1080x360 with 3 Axes>"
      ]
     },
     "metadata": {
      "needs_background": "light"
     },
     "output_type": "display_data"
    }
   ],
   "source": [
    "np.random.seed(2024)\n",
    "fig, axs = plt.subplots(1,3, figsize=(15,5))\n",
    "for j in range(3):\n",
    "    i = np.random.choice(M_2deg.shape[0])\n",
    "    img = M_2deg[i]\n",
    "    axs[j].imshow(img, cmap=\"gray\", vmin=-1, vmax=1)\n",
    "    axs[j].set_title(str(i))\n",
    "plt.show()"
   ]
  },
  {
   "cell_type": "markdown",
   "metadata": {},
   "source": [
    "Save the matrix as npy"
   ]
  },
  {
   "cell_type": "code",
   "execution_count": 11,
   "metadata": {},
   "outputs": [],
   "source": [
    "np.save('LSN_2DEG.npy', M_2deg, allow_pickle=True)"
   ]
  },
  {
   "cell_type": "markdown",
   "metadata": {},
   "source": [
    "### Generate the matrix (squares size = 4 degrees)"
   ]
  },
  {
   "cell_type": "code",
   "execution_count": 12,
   "metadata": {},
   "outputs": [],
   "source": [
    "M_4deg = []\n",
    "for i in range(M_2deg.shape[0]):\n",
    "    img = M_2deg[i]\n",
    "    black = ndi.minimum_filter(img, size=2, mode=\"constant\", cval=0)\n",
    "    white = ndi.maximum_filter(img, size=2, mode=\"constant\", cval=0)\n",
    "    M_4deg.append(black + white)\n",
    "M_4deg = np.array(M_4deg)"
   ]
  },
  {
   "cell_type": "markdown",
   "metadata": {},
   "source": [
    "Show some of the example frames"
   ]
  },
  {
   "cell_type": "code",
   "execution_count": 13,
   "metadata": {},
   "outputs": [
    {
     "data": {
      "image/png": "[encoded data removed]",
      "text/plain": [
       "<Figure size 1080x360 with 3 Axes>"
      ]
     },
     "metadata": {
      "needs_background": "light"
     },
     "output_type": "display_data"
    }
   ],
   "source": [
    "np.random.seed(2024)\n",
    "fig, axs = plt.subplots(1,3, figsize=(15,5))\n",
    "for j in range(3):\n",
    "    i = np.random.choice(M_4deg.shape[0])\n",
    "    img = M_4deg[i]\n",
    "    axs[j].imshow(img, cmap=\"gray\", vmin=-1, vmax=1)\n",
    "    axs[j].set_title(str(i))\n",
    "plt.show()"
   ]
  },
  {
   "cell_type": "markdown",
   "metadata": {},
   "source": [
    "Show the sum of the ON spots"
   ]
  },
  {
   "cell_type": "code",
   "execution_count": 14,
   "metadata": {},
   "outputs": [
    {
     "name": "stdout",
     "output_type": "stream",
     "text": [
      "40.0\n",
      "38.764320785597384\n",
      "10.0\n"
     ]
    },
    {
     "data": {
      "text/plain": [
       "<matplotlib.image.AxesImage at 0x7f1ba7bf91d0>"
      ]
     },
     "execution_count": 14,
     "metadata": {},
     "output_type": "execute_result"
    },
    {
     "data": {
      "image/png": "[encoded data removed]",
      "text/plain": [
       "<Figure size 432x288 with 1 Axes>"
      ]
     },
     "metadata": {
      "needs_background": "light"
     },
     "output_type": "display_data"
    }
   ],
   "source": [
    "img = np.zeros(M_4deg[0].shape)\n",
    "for i in range(M_4deg.shape[0]):\n",
    "    img += M_4deg[i] > 0\n",
    "\n",
    "print(img.max())\n",
    "print(img.mean())\n",
    "print(img.min())\n",
    "plt.imshow(img, cmap=\"gray\", vmin=img.min(), vmax=img.max())"
   ]
  },
  {
   "cell_type": "markdown",
   "metadata": {},
   "source": [
    "Show the sum of the OFF spots"
   ]
  },
  {
   "cell_type": "code",
   "execution_count": 15,
   "metadata": {},
   "outputs": [
    {
     "name": "stdout",
     "output_type": "stream",
     "text": [
      "40.0\n",
      "38.20949263502455\n",
      "10.0\n"
     ]
    },
    {
     "data": {
      "text/plain": [
       "<matplotlib.image.AxesImage at 0x7f1ba77e0160>"
      ]
     },
     "execution_count": 15,
     "metadata": {},
     "output_type": "execute_result"
    },
    {
     "data": {
      "image/png": "[encoded data removed]",
      "text/plain": [
       "<Figure size 432x288 with 1 Axes>"
      ]
     },
     "metadata": {
      "needs_background": "light"
     },
     "output_type": "display_data"
    }
   ],
   "source": [
    "img = np.zeros(M_4deg[0].shape)\n",
    "for i in range(M_4deg.shape[0]):\n",
    "    img += M_4deg[i] < 0\n",
    "\n",
    "print(img.max())\n",
    "print(img.mean())\n",
    "print(img.min())\n",
    "plt.imshow(img, cmap=\"gray\", vmin=img.min(), vmax=img.max())"
   ]
  },
  {
   "cell_type": "code",
   "execution_count": 16,
   "metadata": {},
   "outputs": [
    {
     "data": {
      "image/png": "[encoded data removed]",
      "text/plain": [
       "<Figure size 1080x360 with 3 Axes>"
      ]
     },
     "metadata": {
      "needs_background": "light"
     },
     "output_type": "display_data"
    }
   ],
   "source": [
    "fig, axs = plt.subplots(1,3, figsize=(15,5))\n",
    "for j in range(3):\n",
    "    ny = np.random.choice(24)\n",
    "    nx = np.random.choice(42)\n",
    "    out = np.zeros(mat_shape)\n",
    "    for i in range(M_4deg.shape[0]):\n",
    "        img = M_4deg[i]\n",
    "        if img[ny, nx] == 1:\n",
    "            out += img > 0\n",
    "    out = out / out.max()\n",
    "    axs[j].imshow(out, cmap=\"gray\", vmin=0, vmax=1)\n",
    "plt.show()"
   ]
  },
  {
   "cell_type": "code",
   "execution_count": 17,
   "metadata": {},
   "outputs": [
    {
     "data": {
      "image/png": "[encoded data removed]",
      "text/plain": [
       "<Figure size 1080x360 with 3 Axes>"
      ]
     },
     "metadata": {
      "needs_background": "light"
     },
     "output_type": "display_data"
    }
   ],
   "source": [
    "fig, axs = plt.subplots(1,3, figsize=(15,5))\n",
    "for j in range(3):\n",
    "    ny = np.random.choice(24)\n",
    "    nx = np.random.choice(42)\n",
    "    out = np.zeros(mat_shape)\n",
    "    for i in range(M_4deg.shape[0]):\n",
    "        img = M_4deg[i]\n",
    "        if img[ny, nx] == -1:\n",
    "            out += img < 0\n",
    "    out = out / out.max()\n",
    "    axs[j].imshow(out, cmap=\"gray\", vmin=0, vmax=1)\n",
    "plt.show()"
   ]
  },
  {
   "cell_type": "code",
   "execution_count": 18,
   "metadata": {},
   "outputs": [],
   "source": [
    "np.save('LSN_4DEG.npy', M_4deg, allow_pickle=True)"
   ]
  },
  {
   "cell_type": "code",
   "execution_count": null,
   "metadata": {},
   "outputs": [],
   "source": []
  }
 ],
 "metadata": {
  "kernelspec": {
   "display_name": "Python 3",
   "language": "python",
   "name": "python3"
  },
  "language_info": {
   "codemirror_mode": {
    "name": "ipython",
    "version": 3
   },
   "file_extension": ".py",
   "mimetype": "text/x-python",
   "name": "python",
   "nbconvert_exporter": "python",
   "pygments_lexer": "ipython3",
   "version": "3.7.3"
  }
 },
 "nbformat": 4,
 "nbformat_minor": 4
}

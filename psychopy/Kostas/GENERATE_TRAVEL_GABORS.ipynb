{
 "cells": [
  {
   "cell_type": "code",
   "execution_count": 1,
   "id": "ec1895ff",
   "metadata": {},
   "outputs": [],
   "source": [
    "import numpy as np\n",
    "import matplotlib.pyplot as plt"
   ]
  },
  {
   "cell_type": "code",
   "execution_count": 8,
   "id": "764ccf8b",
   "metadata": {},
   "outputs": [],
   "source": [
    "HEIGHT=720\n",
    "WIDTH=1280\n",
    "deg_pix=WIDTH/100\n",
    "g_dist=deg_pix*10\n",
    "REPs=10\n",
    "DIRs=2\n",
    "START_confs=8\n",
    "SPDs=3"
   ]
  },
  {
   "cell_type": "code",
   "execution_count": 9,
   "id": "4e588822",
   "metadata": {},
   "outputs": [],
   "source": [
    "X_points_0=np.arange(0,WIDTH+g_dist,g_dist)\n",
    "X_points_1=np.arange(g_dist/2,WIDTH+g_dist,g_dist)\n",
    "Y_points_0=np.arange(0,HEIGHT+g_dist,g_dist)\n",
    "Y_points_1=np.arange(g_dist/2,HEIGHT+g_dist,g_dist)\n",
    "\n",
    "UP_start_0=[[i,HEIGHT] for i in X_points_0]\n",
    "DOWN_start_0=[[i,0] for i in X_points_0]\n",
    "LEFT_start_0=[[0,i] for i in Y_points_0]\n",
    "RIGHT_start_0=[[WIDTH,i] for i in Y_points_0]\n",
    "UP_start_1=[[i,HEIGHT] for i in X_points_1]\n",
    "DOWN_start_1=[[i,0] for i in X_points_1]\n",
    "LEFT_start_1=[[0,i] for i in Y_points_1]\n",
    "RIGHT_start_1=[[WIDTH,i] for i in Y_points_1]"
   ]
  },
  {
   "cell_type": "code",
   "execution_count": 10,
   "id": "c5738617",
   "metadata": {},
   "outputs": [],
   "source": [
    "trials=REPs*DIRs*START_confs*SPDs"
   ]
  },
  {
   "cell_type": "code",
   "execution_count": 11,
   "id": "57d5b45f",
   "metadata": {},
   "outputs": [],
   "source": [
    "START_CONFS=np.arange(0,8)\n",
    "TRAVEL_LIST=[UP_start_0,UP_start_1,DOWN_start_0,DOWN_start_1,LEFT_start_0,LEFT_start_1,RIGHT_start_0,RIGHT_start_1]\n",
    "TRAVEL_ORIs=[90,90,270,270,0,0,180,180]\n",
    "TRAVEL_NAMEs=['UP_0','UP_1','DOWN_0','DOWN_1','LEFT_0','LEFT_1','RIGHT_0','RIGHT_1']\n",
    "DIRS=[1,-1]\n",
    "DXs=[1,2,4]\n"
   ]
  },
  {
   "cell_type": "code",
   "execution_count": 12,
   "id": "30379235",
   "metadata": {},
   "outputs": [
    {
     "name": "stderr",
     "output_type": "stream",
     "text": [
      "D:\\anaconda\\lib\\site-packages\\numpy\\core\\_asarray.py:102: VisibleDeprecationWarning: Creating an ndarray from ragged nested sequences (which is a list-or-tuple of lists-or-tuples-or ndarrays with different lengths or shapes) is deprecated. If you meant to do this, you must specify 'dtype=object' when creating the ndarray.\n",
      "  return array(a, dtype, copy=False, order=order)\n"
     ]
    }
   ],
   "source": [
    "COND_LIST=[[s,d,x] for s in START_CONFS for d in DIRS for x in DXs]\n",
    "COND_LIST=COND_LIST*REPs\n",
    "FINAL_COND_LIST=[]\n",
    "for i in range(len(COND_LIST)):\n",
    "    ori=TRAVEL_ORIs[COND_LIST[i][0]]\n",
    "    x=ori*COND_LIST[i][1]\n",
    "    FINAL_COND_LIST.append([COND_LIST[i][0],x,COND_LIST[i][2]])\n",
    "np.random.shuffle(FINAL_COND_LIST)\n",
    "LOC_MATRIX=np.asarray([np.asarray(TRAVEL_LIST[i[0]]) for i in FINAL_COND_LIST])"
   ]
  },
  {
   "cell_type": "code",
   "execution_count": 13,
   "id": "ca1e7ebb",
   "metadata": {},
   "outputs": [],
   "source": [
    "np.save('TRAVEL_GABOR_SETS/GABOR_LOC_MATRIX.npy',LOC_MATRIX)\n",
    "np.save('TRAVEL_GABOR_SETS/GABOR_PARAMS.npy',FINAL_COND_LIST)"
   ]
  },
  {
   "cell_type": "code",
   "execution_count": null,
   "id": "bd97df3c",
   "metadata": {},
   "outputs": [],
   "source": []
  }
 ],
 "metadata": {
  "kernelspec": {
   "display_name": "Python 3",
   "language": "python",
   "name": "python3"
  },
  "language_info": {
   "codemirror_mode": {
    "name": "ipython",
    "version": 3
   },
   "file_extension": ".py",
   "mimetype": "text/x-python",
   "name": "python",
   "nbconvert_exporter": "python",
   "pygments_lexer": "ipython3",
   "version": "3.8.8"
  }
 },
 "nbformat": 4,
 "nbformat_minor": 5
}
